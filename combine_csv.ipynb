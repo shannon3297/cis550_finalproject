{
  "nbformat": 4,
  "nbformat_minor": 0,
  "metadata": {
    "colab": {
      "name": "combine_csv.ipynb",
      "provenance": [],
      "collapsed_sections": []
    },
    "kernelspec": {
      "name": "python3",
      "display_name": "Python 3"
    },
    "language_info": {
      "name": "python"
    }
  },
  "cells": [
    {
      "cell_type": "code",
      "metadata": {
        "colab": {
          "base_uri": "https://localhost:8080/"
        },
        "id": "l8vzAVSnOgWA",
        "outputId": "771c43f0-02d4-4386-c486-7f9023737312"
      },
      "source": [
        "# imports\n",
        "from google.colab import drive\n",
        "import pandas as pd\n",
        "\n",
        "# mount to drive\n",
        "drive.flush_and_unmount()\n",
        "drive.mount('/content/drive', force_remount=True)"
      ],
      "execution_count": 1,
      "outputs": [
        {
          "output_type": "stream",
          "name": "stdout",
          "text": [
            "Drive not mounted, so nothing to flush and unmount.\n",
            "Mounted at /content/drive\n"
          ]
        }
      ]
    },
    {
      "cell_type": "code",
      "metadata": {
        "id": "SV5NsZLhOm5_"
      },
      "source": [
        "path = '/content/drive/MyDrive/F21/CIS550/Final Project/Scraping/'"
      ],
      "execution_count": 2,
      "outputs": []
    },
    {
      "cell_type": "code",
      "metadata": {
        "id": "-_GEBDE-upbr"
      },
      "source": [
        "all_filenames = ['8-1_to_8-3.csv', '8-4.csv', '8-5.csv', '8-6_to_8-9.csv', '8-10.csv','8-11.csv','8-12.csv','8-13_to_8-26.csv']\n",
        "combined_csv = pd.concat([pd.read_csv(path + f, encoding='utf-8-sig') for f in all_filenames ])\n",
        "combined_csv.to_csv(path + \"august_2021.csv\", index=False, encoding='utf-8-sig')"
      ],
      "execution_count": 3,
      "outputs": []
    },
    {
      "cell_type": "code",
      "metadata": {
        "id": "ZTVVp0lxcPzQ"
      },
      "source": [
        "# # trying to fix symbols, no encoding combos work well\n",
        "# fix_symbols = pd.read_csv(path + 'january_2021.csv', encoding='latin-1')\n",
        "# fix_symbols.to_csv(path + \"january_2021_fixed.csv\", index=False, encoding='utf-8')pd.read_csv(path + 'february_2021.csv', encoding='utf-8-sig').to_csv(path+'february_2021_fixed.csv', index=False, encoding='utf-8-sig')"
      ],
      "execution_count": null,
      "outputs": []
    }
  ]
}