{
  "nbformat": 4,
  "nbformat_minor": 0,
  "metadata": {
    "colab": {
      "name": "clean_wsj_articles.ipynb",
      "provenance": [],
      "collapsed_sections": []
    },
    "kernelspec": {
      "name": "python3",
      "display_name": "Python 3"
    },
    "language_info": {
      "name": "python"
    }
  },
  "cells": [
    {
      "cell_type": "code",
      "metadata": {
        "colab": {
          "base_uri": "https://localhost:8080/"
        },
        "id": "xtTlbE2poe3C",
        "outputId": "8a3b7fbf-fdd5-4ffb-d176-938d12afeef5"
      },
      "source": [
        "# imports\n",
        "from google.colab import drive\n",
        "import pandas as pd\n",
        "\n",
        "# mount to drive\n",
        "drive.flush_and_unmount()\n",
        "drive.mount('/content/drive', force_remount=True)"
      ],
      "execution_count": 1,
      "outputs": [
        {
          "output_type": "stream",
          "name": "stdout",
          "text": [
            "Drive not mounted, so nothing to flush and unmount.\n",
            "Mounted at /content/drive\n"
          ]
        }
      ]
    },
    {
      "cell_type": "code",
      "metadata": {
        "id": "XKLxrUADoj1p"
      },
      "source": [
        "path = '/content/drive/MyDrive/F21/CIS550/Final Project/WSJ Articles/'"
      ],
      "execution_count": 2,
      "outputs": []
    },
    {
      "cell_type": "code",
      "metadata": {
        "id": "BDn8TJQWpMmb"
      },
      "source": [
        "pd.read_csv(path + 'january_2021.csv', encoding='latin-1').to_csv(path + \"jan_2021.csv\", index=False, encoding='utf-8-sig')"
      ],
      "execution_count": 7,
      "outputs": []
    },
    {
      "cell_type": "code",
      "metadata": {
        "id": "fonaErBDoosg"
      },
      "source": [
        "all_filenames = ['jan_2021.csv', 'february_2021.csv', 'march_2021.csv', 'april_2021.csv', 'may_2021.csv', 'june_2021.csv', 'july_2021.csv']\n",
        "combined_csv = pd.concat([pd.read_csv(path + f, encoding='utf-8-sig') for f in all_filenames ])"
      ],
      "execution_count": 8,
      "outputs": []
    },
    {
      "cell_type": "code",
      "metadata": {
        "colab": {
          "base_uri": "https://localhost:8080/",
          "height": 414
        },
        "id": "F9p1VODNpnEn",
        "outputId": "d4dc1321-be0a-4742-b773-6f340ebc89db"
      },
      "source": [
        "combined_csv = combined_csv.loc[:, ~combined_csv.columns.str.contains('^Unnamed')]\n",
        "combined_csv"
      ],
      "execution_count": 12,
      "outputs": [
        {
          "output_type": "execute_result",
          "data": {
            "text/html": [
              "<div>\n",
              "<style scoped>\n",
              "    .dataframe tbody tr th:only-of-type {\n",
              "        vertical-align: middle;\n",
              "    }\n",
              "\n",
              "    .dataframe tbody tr th {\n",
              "        vertical-align: top;\n",
              "    }\n",
              "\n",
              "    .dataframe thead th {\n",
              "        text-align: right;\n",
              "    }\n",
              "</style>\n",
              "<table border=\"1\" class=\"dataframe\">\n",
              "  <thead>\n",
              "    <tr style=\"text-align: right;\">\n",
              "      <th></th>\n",
              "      <th>Article URL</th>\n",
              "      <th>Date</th>\n",
              "      <th>Title</th>\n",
              "      <th>Subtitle</th>\n",
              "      <th>Content</th>\n",
              "    </tr>\n",
              "  </thead>\n",
              "  <tbody>\n",
              "    <tr>\n",
              "      <th>0</th>\n",
              "      <td>https://www.wsj.com/articles/judge-dismisses-e...</td>\n",
              "      <td>1/1/21</td>\n",
              "      <td>Judge Dismisses Effort to Derail Count of Elec...</td>\n",
              "      <td>Rep. Louie Gohmert sought to allow Vice Presid...</td>\n",
              "      <td>WASHINGTONâA federal judge on Friday dismiss...</td>\n",
              "    </tr>\n",
              "    <tr>\n",
              "      <th>1</th>\n",
              "      <td>https://www.wsj.com/articles/drugmakers-raise-...</td>\n",
              "      <td>1/1/21</td>\n",
              "      <td>Drugmakers Raise Prices 3.3% in the New Year</td>\n",
              "      <td>About 70 companies raised prices, albeit at a ...</td>\n",
              "      <td>The pharmaceutical industry is raising the pri...</td>\n",
              "    </tr>\n",
              "    <tr>\n",
              "      <th>2</th>\n",
              "      <td>https://www.wsj.com/articles/defense-bill-over...</td>\n",
              "      <td>1/1/21</td>\n",
              "      <td>Defense-Bill Override Paves Way for Overhaul o...</td>\n",
              "      <td>New requirements for ownership disclosures, pa...</td>\n",
              "      <td>New rules intended to combat money laundering ...</td>\n",
              "    </tr>\n",
              "    <tr>\n",
              "      <th>3</th>\n",
              "      <td>https://www.wsj.com/articles/whats-at-stake-in...</td>\n",
              "      <td>1/1/21</td>\n",
              "      <td>Whatâs at Stake in Georgia</td>\n",
              "      <td>Hereâs the difference between a Democratic a...</td>\n",
              "      <td>NaN</td>\n",
              "    </tr>\n",
              "    <tr>\n",
              "      <th>4</th>\n",
              "      <td>https://www.wsj.com/articles/nyse-to-delist-ch...</td>\n",
              "      <td>1/1/21</td>\n",
              "      <td>NYSE to Delist Chinaâs Major Telecom Operators</td>\n",
              "      <td>Move will result in China Mobile being kicked ...</td>\n",
              "      <td>The New York Stock Exchange will delist Chinaâ...</td>\n",
              "    </tr>\n",
              "    <tr>\n",
              "      <th>...</th>\n",
              "      <td>...</td>\n",
              "      <td>...</td>\n",
              "      <td>...</td>\n",
              "      <td>...</td>\n",
              "      <td>...</td>\n",
              "    </tr>\n",
              "    <tr>\n",
              "      <th>1272</th>\n",
              "      <td>https://www.wsj.com/articles/delta-variant-fea...</td>\n",
              "      <td>7/31/21</td>\n",
              "      <td>Delta Variant Fears Spur More Americans to Get...</td>\n",
              "      <td>Concerns about the Delta variant, confidence i...</td>\n",
              "      <td>Growing numbers of people are getting vaccinat...</td>\n",
              "    </tr>\n",
              "    <tr>\n",
              "      <th>1273</th>\n",
              "      <td>https://www.wsj.com/articles/an-unlikely-refug...</td>\n",
              "      <td>7/31/21</td>\n",
              "      <td>An Unlikely Refuge in the Year of Covid</td>\n",
              "      <td>For one New Yorker, the decision to ride out m...</td>\n",
              "      <td>When Covid-19 hit New York City last spring, I...</td>\n",
              "    </tr>\n",
              "    <tr>\n",
              "      <th>1274</th>\n",
              "      <td>https://www.wsj.com/articles/banking-wasnt-for...</td>\n",
              "      <td>7/31/21</td>\n",
              "      <td>Banking Wasn’t for Her, So She Turned to Nonpr...</td>\n",
              "      <td>British A. Robinson’s volunteer work with the ...</td>\n",
              "      <td>In Personal Board of Directors, top business l...</td>\n",
              "    </tr>\n",
              "    <tr>\n",
              "      <th>1275</th>\n",
              "      <td>https://www.wsj.com/articles/is-a-four-day-wee...</td>\n",
              "      <td>7/31/21</td>\n",
              "      <td>Is a Four-Day Week the Future of Work?</td>\n",
              "      <td>Working fewer hours is getting a new look duri...</td>\n",
              "      <td>Kickstarter Chief Executive Aziz Hasan had to ...</td>\n",
              "    </tr>\n",
              "    <tr>\n",
              "      <th>1276</th>\n",
              "      <td>https://www.wsj.com/articles/why-artificial-in...</td>\n",
              "      <td>7/31/21</td>\n",
              "      <td>Why Artificial Intelligence Isn’t Intelligent</td>\n",
              "      <td>Some experts in AI think its name fuels confus...</td>\n",
              "      <td>A funny thing happens among engineers and rese...</td>\n",
              "    </tr>\n",
              "  </tbody>\n",
              "</table>\n",
              "<p>8990 rows × 5 columns</p>\n",
              "</div>"
            ],
            "text/plain": [
              "                                            Article URL  ...                                            Content\n",
              "0     https://www.wsj.com/articles/judge-dismisses-e...  ...  WASHINGTONâA federal judge on Friday dismiss...\n",
              "1     https://www.wsj.com/articles/drugmakers-raise-...  ...  The pharmaceutical industry is raising the pri...\n",
              "2     https://www.wsj.com/articles/defense-bill-over...  ...  New rules intended to combat money laundering ...\n",
              "3     https://www.wsj.com/articles/whats-at-stake-in...  ...                                                NaN\n",
              "4     https://www.wsj.com/articles/nyse-to-delist-ch...  ...  The New York Stock Exchange will delist Chinaâ...\n",
              "...                                                 ...  ...                                                ...\n",
              "1272  https://www.wsj.com/articles/delta-variant-fea...  ...  Growing numbers of people are getting vaccinat...\n",
              "1273  https://www.wsj.com/articles/an-unlikely-refug...  ...  When Covid-19 hit New York City last spring, I...\n",
              "1274  https://www.wsj.com/articles/banking-wasnt-for...  ...  In Personal Board of Directors, top business l...\n",
              "1275  https://www.wsj.com/articles/is-a-four-day-wee...  ...  Kickstarter Chief Executive Aziz Hasan had to ...\n",
              "1276  https://www.wsj.com/articles/why-artificial-in...  ...  A funny thing happens among engineers and rese...\n",
              "\n",
              "[8990 rows x 5 columns]"
            ]
          },
          "metadata": {},
          "execution_count": 12
        }
      ]
    },
    {
      "cell_type": "code",
      "metadata": {
        "id": "fUDR9SJNo8YU"
      },
      "source": [
        "no_na = combined_csv.dropna()\n",
        "no_na_dups = no_na.drop_duplicates()\n",
        "no_na_dups.to_csv(path + \"combined_2021.csv\", index=False, encoding='utf-8-sig')"
      ],
      "execution_count": 13,
      "outputs": []
    }
  ]
}